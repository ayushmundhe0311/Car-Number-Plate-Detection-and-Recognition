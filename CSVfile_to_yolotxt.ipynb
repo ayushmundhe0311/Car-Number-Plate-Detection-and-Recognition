{
 "cells": [
  {
   "cell_type": "code",
   "execution_count": 1,
   "id": "23cafcd8-fcf1-44fa-a31b-1f9e5433213a",
   "metadata": {},
   "outputs": [],
   "source": [
    "import csv\n",
    "import os\n",
    "from PIL import Image"
   ]
  },
  {
   "cell_type": "code",
   "execution_count": 2,
   "id": "70307eb1-a888-4eac-8c73-8349b5e727dd",
   "metadata": {},
   "outputs": [],
   "source": [
    "def csv_to_yolo(csv_file, output_dir, images_dir):\n",
    "    \"\"\"\n",
    "    Converts CSV data to YOLO format.\n",
    "\n",
    "    Args:\n",
    "        csv_file: Path to the CSV file.\n",
    "        output_dir: Directory to save the YOLO format files.\n",
    "        images_dir: Directory containing the images.\n",
    "    \"\"\"\n",
    "    if not os.path.exists(output_dir):\n",
    "        os.makedirs(output_dir)\n",
    "\n",
    "    with open(csv_file, newline='') as csvfile:\n",
    "        reader = csv.DictReader(csvfile)\n",
    "\n",
    "        for row in reader:\n",
    "            image_filename = row['img_id']\n",
    "            image_path = os.path.join(images_dir, image_filename)\n",
    "            \n",
    "            # Open the image to get its dimensions\n",
    "            with Image.open(image_path) as img:\n",
    "                image_width, image_height = img.size\n",
    "\n",
    "            xmin = float(row['xmin'])\n",
    "            ymin = float(row['ymin'])\n",
    "            xmax = float(row['xmax'])\n",
    "            ymax = float(row['ymax'])\n",
    "            class_label = 0  # NumberPlate for that only one class\n",
    "\n",
    "            # Calculate YOLO format values\n",
    "            width = xmax - xmin\n",
    "            height = ymax - ymin\n",
    "            x_center = xmin + width / 2\n",
    "            y_center = ymin + height / 2\n",
    "\n",
    "            # Normalize values to image dimensions\n",
    "            x_center_normalized = x_center / image_width\n",
    "            y_center_normalized = y_center / image_height\n",
    "            width_normalized = width / image_width\n",
    "            height_normalized = height / image_height\n",
    "\n",
    "            yolo_file = os.path.join(output_dir, image_filename.replace(\".jpg\", \".txt\"))\n",
    "            with open(yolo_file, \"w\") as f:\n",
    "                f.write(f\"{class_label} {x_center_normalized} {y_center_normalized} {width_normalized} {height_normalized}\\n\")\n",
    "\n",
    "\n"
   ]
  },
  {
   "cell_type": "code",
   "execution_count": 3,
   "id": "c91153e1-080d-4bae-80e9-3bc4cdd5a397",
   "metadata": {},
   "outputs": [],
   "source": [
    "# saving yolo_labels into yolo_lables directory for model building\n",
    "\n",
    "csv_file = \"Licplatesdetection_train.csv\"\n",
    "output_dir = \"yolo_labels\"\n",
    "images_dir = \"data/\"\n",
    "csv_to_yolo(csv_file, output_dir, images_dir)"
   ]
  },
  {
   "cell_type": "code",
   "execution_count": null,
   "id": "433c465f-fb05-4499-b6f2-4e5ecaf5577a",
   "metadata": {},
   "outputs": [],
   "source": []
  }
 ],
 "metadata": {
  "kernelspec": {
   "display_name": "Python 3 (ipykernel)",
   "language": "python",
   "name": "python3"
  },
  "language_info": {
   "codemirror_mode": {
    "name": "ipython",
    "version": 3
   },
   "file_extension": ".py",
   "mimetype": "text/x-python",
   "name": "python",
   "nbconvert_exporter": "python",
   "pygments_lexer": "ipython3",
   "version": "3.10.0"
  }
 },
 "nbformat": 4,
 "nbformat_minor": 5
}
