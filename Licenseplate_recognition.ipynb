{
 "cells": [
  {
   "cell_type": "code",
   "execution_count": 2,
   "metadata": {},
   "outputs": [
    {
     "name": "stdout",
     "output_type": "stream",
     "text": [
      "Collecting easyocr\n",
      "  Downloading easyocr-1.7.2-py3-none-any.whl.metadata (10 kB)\n",
      "Collecting torch (from easyocr)\n",
      "  Downloading torch-2.5.0-cp310-cp310-win_amd64.whl.metadata (28 kB)\n",
      "Collecting torchvision>=0.5 (from easyocr)\n",
      "  Downloading torchvision-0.20.0-cp310-cp310-win_amd64.whl.metadata (6.2 kB)\n",
      "Collecting opencv-python-headless (from easyocr)\n",
      "  Downloading opencv_python_headless-4.10.0.84-cp37-abi3-win_amd64.whl.metadata (20 kB)\n",
      "Requirement already satisfied: scipy in c:\\users\\ayush\\appdata\\local\\programs\\python\\python310\\lib\\site-packages (from easyocr) (1.14.1)\n",
      "Requirement already satisfied: numpy in c:\\users\\ayush\\appdata\\local\\programs\\python\\python310\\lib\\site-packages (from easyocr) (1.26.4)\n",
      "Requirement already satisfied: Pillow in c:\\users\\ayush\\appdata\\local\\programs\\python\\python310\\lib\\site-packages (from easyocr) (10.4.0)\n",
      "Collecting scikit-image (from easyocr)\n",
      "  Downloading scikit_image-0.24.0-cp310-cp310-win_amd64.whl.metadata (14 kB)\n",
      "Collecting python-bidi (from easyocr)\n",
      "  Downloading python_bidi-0.6.3-cp310-none-win_amd64.whl.metadata (5.0 kB)\n",
      "Requirement already satisfied: PyYAML in c:\\users\\ayush\\appdata\\local\\programs\\python\\python310\\lib\\site-packages (from easyocr) (6.0.2)\n",
      "Collecting Shapely (from easyocr)\n",
      "  Downloading shapely-2.0.6-cp310-cp310-win_amd64.whl.metadata (7.2 kB)\n",
      "Collecting pyclipper (from easyocr)\n",
      "  Downloading pyclipper-1.3.0.post6-cp310-cp310-win_amd64.whl.metadata (9.2 kB)\n",
      "Collecting ninja (from easyocr)\n",
      "  Downloading ninja-1.11.1.1-py2.py3-none-win_amd64.whl.metadata (5.4 kB)\n",
      "Collecting filelock (from torch->easyocr)\n",
      "  Using cached filelock-3.16.1-py3-none-any.whl.metadata (2.9 kB)\n",
      "Requirement already satisfied: typing-extensions>=4.8.0 in c:\\users\\ayush\\appdata\\local\\programs\\python\\python310\\lib\\site-packages (from torch->easyocr) (4.12.2)\n",
      "Collecting networkx (from torch->easyocr)\n",
      "  Downloading networkx-3.4.2-py3-none-any.whl.metadata (6.3 kB)\n",
      "Requirement already satisfied: jinja2 in c:\\users\\ayush\\appdata\\local\\programs\\python\\python310\\lib\\site-packages (from torch->easyocr) (3.1.4)\n",
      "Collecting fsspec (from torch->easyocr)\n",
      "  Downloading fsspec-2024.10.0-py3-none-any.whl.metadata (11 kB)\n",
      "Collecting sympy==1.13.1 (from torch->easyocr)\n",
      "  Downloading sympy-1.13.1-py3-none-any.whl.metadata (12 kB)\n",
      "Collecting mpmath<1.4,>=1.1.0 (from sympy==1.13.1->torch->easyocr)\n",
      "  Using cached mpmath-1.3.0-py3-none-any.whl.metadata (8.6 kB)\n",
      "Collecting imageio>=2.33 (from scikit-image->easyocr)\n",
      "  Downloading imageio-2.36.0-py3-none-any.whl.metadata (5.2 kB)\n",
      "Collecting tifffile>=2022.8.12 (from scikit-image->easyocr)\n",
      "  Downloading tifffile-2024.9.20-py3-none-any.whl.metadata (32 kB)\n",
      "Requirement already satisfied: packaging>=21 in c:\\users\\ayush\\appdata\\local\\programs\\python\\python310\\lib\\site-packages (from scikit-image->easyocr) (24.1)\n",
      "Collecting lazy-loader>=0.4 (from scikit-image->easyocr)\n",
      "  Downloading lazy_loader-0.4-py3-none-any.whl.metadata (7.6 kB)\n",
      "Requirement already satisfied: MarkupSafe>=2.0 in c:\\users\\ayush\\appdata\\local\\programs\\python\\python310\\lib\\site-packages (from jinja2->torch->easyocr) (3.0.1)\n",
      "Downloading easyocr-1.7.2-py3-none-any.whl (2.9 MB)\n",
      "   ---------------------------------------- 0.0/2.9 MB ? eta -:--:--\n",
      "   ---------------------------------------- 2.9/2.9 MB 18.5 MB/s eta 0:00:00\n",
      "Downloading torchvision-0.20.0-cp310-cp310-win_amd64.whl (1.6 MB)\n",
      "   ---------------------------------------- 0.0/1.6 MB ? eta -:--:--\n",
      "   ---------------------------------------- 1.6/1.6 MB 13.9 MB/s eta 0:00:00\n",
      "Downloading torch-2.5.0-cp310-cp310-win_amd64.whl (203.1 MB)\n",
      "   ---------------------------------------- 0.0/203.1 MB ? eta -:--:--\n",
      "   ---------------------------------------- 2.4/203.1 MB 11.2 MB/s eta 0:00:18\n",
      "    --------------------------------------- 4.2/203.1 MB 10.1 MB/s eta 0:00:20\n",
      "   - -------------------------------------- 5.5/203.1 MB 9.1 MB/s eta 0:00:22\n",
      "   - -------------------------------------- 7.3/203.1 MB 8.7 MB/s eta 0:00:23\n",
      "   - -------------------------------------- 9.2/203.1 MB 8.8 MB/s eta 0:00:23\n",
      "   -- ------------------------------------- 11.0/203.1 MB 8.8 MB/s eta 0:00:22\n",
      "   -- ------------------------------------- 13.1/203.1 MB 9.0 MB/s eta 0:00:22\n",
      "   -- ------------------------------------- 15.2/203.1 MB 9.2 MB/s eta 0:00:21\n",
      "   --- ------------------------------------ 17.6/203.1 MB 9.4 MB/s eta 0:00:20\n",
      "   --- ------------------------------------ 19.9/203.1 MB 9.5 MB/s eta 0:00:20\n",
      "   ---- ----------------------------------- 22.3/203.1 MB 9.8 MB/s eta 0:00:19\n",
      "   ---- ----------------------------------- 24.6/203.1 MB 9.9 MB/s eta 0:00:19\n",
      "   ----- ---------------------------------- 27.0/203.1 MB 10.0 MB/s eta 0:00:18\n",
      "   ----- ---------------------------------- 29.4/203.1 MB 10.1 MB/s eta 0:00:18\n",
      "   ------ --------------------------------- 31.7/203.1 MB 10.1 MB/s eta 0:00:17\n",
      "   ------ --------------------------------- 34.1/203.1 MB 10.3 MB/s eta 0:00:17\n",
      "   ------- -------------------------------- 36.7/203.1 MB 10.4 MB/s eta 0:00:17\n",
      "   ------- -------------------------------- 38.5/203.1 MB 10.3 MB/s eta 0:00:16\n",
      "   ------- -------------------------------- 40.1/203.1 MB 10.1 MB/s eta 0:00:17\n",
      "   -------- ------------------------------- 41.7/203.1 MB 10.0 MB/s eta 0:00:17\n",
      "   -------- ------------------------------- 43.3/203.1 MB 9.9 MB/s eta 0:00:17\n",
      "   -------- ------------------------------- 44.8/203.1 MB 9.8 MB/s eta 0:00:17\n",
      "   --------- ------------------------------ 46.9/203.1 MB 9.8 MB/s eta 0:00:16\n",
      "   --------- ------------------------------ 49.0/203.1 MB 9.8 MB/s eta 0:00:16\n",
      "   ---------- ----------------------------- 50.9/203.1 MB 9.8 MB/s eta 0:00:16\n",
      "   ---------- ----------------------------- 53.2/203.1 MB 9.8 MB/s eta 0:00:16\n",
      "   ---------- ----------------------------- 55.8/203.1 MB 9.9 MB/s eta 0:00:15\n",
      "   ----------- ---------------------------- 58.5/203.1 MB 10.0 MB/s eta 0:00:15\n",
      "   ----------- ---------------------------- 60.6/203.1 MB 10.0 MB/s eta 0:00:15\n",
      "   ------------ --------------------------- 62.7/203.1 MB 10.1 MB/s eta 0:00:14\n",
      "   ------------ --------------------------- 65.0/203.1 MB 10.1 MB/s eta 0:00:14\n",
      "   ------------- -------------------------- 67.9/203.1 MB 10.2 MB/s eta 0:00:14\n",
      "   ------------- -------------------------- 70.5/203.1 MB 10.3 MB/s eta 0:00:13\n",
      "   -------------- ------------------------- 72.6/203.1 MB 10.3 MB/s eta 0:00:13\n",
      "   -------------- ------------------------- 75.0/203.1 MB 10.3 MB/s eta 0:00:13\n",
      "   --------------- ------------------------ 77.3/203.1 MB 10.3 MB/s eta 0:00:13\n",
      "   --------------- ------------------------ 80.2/203.1 MB 10.4 MB/s eta 0:00:12\n",
      "   ---------------- ----------------------- 83.1/203.1 MB 10.5 MB/s eta 0:00:12\n",
      "   ---------------- ----------------------- 86.2/203.1 MB 10.6 MB/s eta 0:00:12\n",
      "   ----------------- ---------------------- 88.9/203.1 MB 10.7 MB/s eta 0:00:11\n",
      "   ----------------- ---------------------- 91.2/203.1 MB 10.7 MB/s eta 0:00:11\n",
      "   ------------------ --------------------- 93.1/203.1 MB 10.7 MB/s eta 0:00:11\n",
      "   ------------------ --------------------- 95.4/203.1 MB 10.7 MB/s eta 0:00:11\n",
      "   ------------------- -------------------- 98.0/203.1 MB 10.7 MB/s eta 0:00:10\n",
      "   ------------------- ------------------- 100.7/203.1 MB 10.8 MB/s eta 0:00:10\n",
      "   ------------------- ------------------- 103.3/203.1 MB 10.8 MB/s eta 0:00:10\n",
      "   -------------------- ------------------ 106.2/203.1 MB 10.9 MB/s eta 0:00:09\n",
      "   -------------------- ------------------ 109.3/203.1 MB 10.9 MB/s eta 0:00:09\n",
      "   --------------------- ----------------- 111.7/203.1 MB 11.0 MB/s eta 0:00:09\n",
      "   --------------------- ----------------- 114.6/203.1 MB 11.0 MB/s eta 0:00:09\n",
      "   ---------------------- ---------------- 116.9/203.1 MB 11.0 MB/s eta 0:00:08\n",
      "   ---------------------- ---------------- 119.5/203.1 MB 11.0 MB/s eta 0:00:08\n",
      "   ----------------------- --------------- 121.9/203.1 MB 11.1 MB/s eta 0:00:08\n",
      "   ------------------------ -------------- 125.0/203.1 MB 11.1 MB/s eta 0:00:08\n",
      "   ------------------------ -------------- 127.9/203.1 MB 11.2 MB/s eta 0:00:07\n",
      "   ------------------------- ------------- 130.8/203.1 MB 11.2 MB/s eta 0:00:07\n",
      "   ------------------------- ------------- 132.6/203.1 MB 11.2 MB/s eta 0:00:07\n",
      "   ------------------------- ------------- 135.0/203.1 MB 11.2 MB/s eta 0:00:07\n",
      "   -------------------------- ------------ 137.4/203.1 MB 11.2 MB/s eta 0:00:06\n",
      "   -------------------------- ------------ 140.0/203.1 MB 11.2 MB/s eta 0:00:06\n",
      "   --------------------------- ----------- 142.6/203.1 MB 11.2 MB/s eta 0:00:06\n",
      "   --------------------------- ----------- 145.0/203.1 MB 11.2 MB/s eta 0:00:06\n",
      "   ---------------------------- ---------- 147.1/203.1 MB 11.2 MB/s eta 0:00:06\n",
      "   ---------------------------- ---------- 149.7/203.1 MB 11.2 MB/s eta 0:00:05\n",
      "   ----------------------------- --------- 152.8/203.1 MB 11.3 MB/s eta 0:00:05\n",
      "   ----------------------------- --------- 156.0/203.1 MB 11.3 MB/s eta 0:00:05\n",
      "   ------------------------------ -------- 158.1/203.1 MB 11.3 MB/s eta 0:00:04\n",
      "   ------------------------------ -------- 160.2/203.1 MB 11.3 MB/s eta 0:00:04\n",
      "   ------------------------------- ------- 162.5/203.1 MB 11.3 MB/s eta 0:00:04\n",
      "   ------------------------------- ------- 164.9/203.1 MB 11.3 MB/s eta 0:00:04\n",
      "   -------------------------------- ------ 167.5/203.1 MB 11.3 MB/s eta 0:00:04\n",
      "   -------------------------------- ------ 170.1/203.1 MB 11.3 MB/s eta 0:00:03\n",
      "   --------------------------------- ----- 173.0/203.1 MB 11.4 MB/s eta 0:00:03\n",
      "   --------------------------------- ----- 175.4/203.1 MB 11.4 MB/s eta 0:00:03\n",
      "   ---------------------------------- ---- 177.2/203.1 MB 11.3 MB/s eta 0:00:03\n",
      "   ---------------------------------- ---- 179.0/203.1 MB 11.3 MB/s eta 0:00:03\n",
      "   ---------------------------------- ---- 181.1/203.1 MB 11.3 MB/s eta 0:00:02\n",
      "   ----------------------------------- --- 183.2/203.1 MB 11.3 MB/s eta 0:00:02\n",
      "   ----------------------------------- --- 185.6/203.1 MB 11.3 MB/s eta 0:00:02\n",
      "   ------------------------------------ -- 188.0/203.1 MB 11.3 MB/s eta 0:00:02\n",
      "   ------------------------------------ -- 189.8/203.1 MB 11.2 MB/s eta 0:00:02\n",
      "   ------------------------------------ -- 192.2/203.1 MB 11.2 MB/s eta 0:00:01\n",
      "   ------------------------------------- - 195.0/203.1 MB 11.3 MB/s eta 0:00:01\n",
      "   ------------------------------------- - 197.7/203.1 MB 11.3 MB/s eta 0:00:01\n",
      "   --------------------------------------  199.0/203.1 MB 11.2 MB/s eta 0:00:01\n",
      "   --------------------------------------  200.3/203.1 MB 11.2 MB/s eta 0:00:01\n",
      "   --------------------------------------  201.9/203.1 MB 11.1 MB/s eta 0:00:01\n",
      "   --------------------------------------  202.9/203.1 MB 11.1 MB/s eta 0:00:01\n",
      "   --------------------------------------  202.9/203.1 MB 11.1 MB/s eta 0:00:01\n",
      "   --------------------------------------  202.9/203.1 MB 11.1 MB/s eta 0:00:01\n",
      "   --------------------------------------- 203.1/203.1 MB 10.8 MB/s eta 0:00:00\n",
      "Downloading sympy-1.13.1-py3-none-any.whl (6.2 MB)\n",
      "   ---------------------------------------- 0.0/6.2 MB ? eta -:--:--\n",
      "   ----------- ---------------------------- 1.8/6.2 MB 9.1 MB/s eta 0:00:01\n",
      "   ----------------------- ---------------- 3.7/6.2 MB 9.5 MB/s eta 0:00:01\n",
      "   -------------------------------------- - 6.0/6.2 MB 9.7 MB/s eta 0:00:01\n",
      "   ---------------------------------------- 6.2/6.2 MB 9.2 MB/s eta 0:00:00\n",
      "Downloading ninja-1.11.1.1-py2.py3-none-win_amd64.whl (312 kB)\n",
      "Downloading opencv_python_headless-4.10.0.84-cp37-abi3-win_amd64.whl (38.8 MB)\n",
      "   ---------------------------------------- 0.0/38.8 MB ? eta -:--:--\n",
      "   -- ------------------------------------- 2.1/38.8 MB 11.7 MB/s eta 0:00:04\n",
      "   ---- ----------------------------------- 4.7/38.8 MB 11.9 MB/s eta 0:00:03\n",
      "   ------- -------------------------------- 7.3/38.8 MB 12.2 MB/s eta 0:00:03\n",
      "   ---------- ----------------------------- 10.0/38.8 MB 12.4 MB/s eta 0:00:03\n",
      "   ------------ --------------------------- 12.6/38.8 MB 12.3 MB/s eta 0:00:03\n",
      "   -------------- ------------------------- 14.2/38.8 MB 11.5 MB/s eta 0:00:03\n",
      "   --------------- ------------------------ 15.5/38.8 MB 10.8 MB/s eta 0:00:03\n",
      "   ----------------- ---------------------- 16.5/38.8 MB 10.1 MB/s eta 0:00:03\n",
      "   ------------------ --------------------- 18.4/38.8 MB 10.0 MB/s eta 0:00:03\n",
      "   --------------------- ------------------ 20.4/38.8 MB 10.0 MB/s eta 0:00:02\n",
      "   ----------------------- ---------------- 22.8/38.8 MB 10.1 MB/s eta 0:00:02\n",
      "   ------------------------- -------------- 25.2/38.8 MB 10.2 MB/s eta 0:00:02\n",
      "   ---------------------------- ----------- 27.3/38.8 MB 10.2 MB/s eta 0:00:02\n",
      "   ------------------------------ --------- 29.6/38.8 MB 10.3 MB/s eta 0:00:01\n",
      "   -------------------------------- ------- 31.5/38.8 MB 10.2 MB/s eta 0:00:01\n",
      "   ----------------------------------- ---- 34.1/38.8 MB 10.4 MB/s eta 0:00:01\n",
      "   -------------------------------------- - 37.0/38.8 MB 10.6 MB/s eta 0:00:01\n",
      "   ---------------------------------------  38.5/38.8 MB 10.6 MB/s eta 0:00:01\n",
      "   ---------------------------------------- 38.8/38.8 MB 10.3 MB/s eta 0:00:00\n",
      "Downloading pyclipper-1.3.0.post6-cp310-cp310-win_amd64.whl (110 kB)\n",
      "Downloading python_bidi-0.6.3-cp310-none-win_amd64.whl (157 kB)\n",
      "Downloading scikit_image-0.24.0-cp310-cp310-win_amd64.whl (12.9 MB)\n",
      "   ---------------------------------------- 0.0/12.9 MB ? eta -:--:--\n",
      "   ---- ----------------------------------- 1.6/12.9 MB 8.4 MB/s eta 0:00:02\n",
      "   ------------ --------------------------- 3.9/12.9 MB 9.8 MB/s eta 0:00:01\n",
      "   ------------------ --------------------- 6.0/12.9 MB 9.7 MB/s eta 0:00:01\n",
      "   ------------------------- -------------- 8.1/12.9 MB 9.9 MB/s eta 0:00:01\n",
      "   --------------------------------- ------ 10.7/12.9 MB 10.3 MB/s eta 0:00:01\n",
      "   ---------------------------------------  12.8/12.9 MB 10.6 MB/s eta 0:00:01\n",
      "   ---------------------------------------- 12.9/12.9 MB 10.2 MB/s eta 0:00:00\n",
      "Downloading shapely-2.0.6-cp310-cp310-win_amd64.whl (1.4 MB)\n",
      "   ---------------------------------------- 0.0/1.4 MB ? eta -:--:--\n",
      "   ---------------------------------------- 1.4/1.4 MB 9.4 MB/s eta 0:00:00\n",
      "Downloading imageio-2.36.0-py3-none-any.whl (315 kB)\n",
      "Downloading lazy_loader-0.4-py3-none-any.whl (12 kB)\n",
      "Downloading networkx-3.4.2-py3-none-any.whl (1.7 MB)\n",
      "   ---------------------------------------- 0.0/1.7 MB ? eta -:--:--\n",
      "   ---------------------------------------- 1.7/1.7 MB 10.4 MB/s eta 0:00:00\n",
      "Downloading tifffile-2024.9.20-py3-none-any.whl (228 kB)\n",
      "Using cached filelock-3.16.1-py3-none-any.whl (16 kB)\n",
      "Downloading fsspec-2024.10.0-py3-none-any.whl (179 kB)\n",
      "Using cached mpmath-1.3.0-py3-none-any.whl (536 kB)\n",
      "Installing collected packages: python-bidi, pyclipper, ninja, mpmath, tifffile, sympy, Shapely, opencv-python-headless, networkx, lazy-loader, imageio, fsspec, filelock, torch, scikit-image, torchvision, easyocr\n",
      "Successfully installed Shapely-2.0.6 easyocr-1.7.2 filelock-3.16.1 fsspec-2024.10.0 imageio-2.36.0 lazy-loader-0.4 mpmath-1.3.0 networkx-3.4.2 ninja-1.11.1.1 opencv-python-headless-4.10.0.84 pyclipper-1.3.0.post6 python-bidi-0.6.3 scikit-image-0.24.0 sympy-1.13.1 tifffile-2024.9.20 torch-2.5.0 torchvision-0.20.0\n"
     ]
    }
   ],
   "source": [
    "!pip install easyocr\n"
   ]
  },
  {
   "cell_type": "code",
   "execution_count": 1,
   "metadata": {
    "colab": {
     "base_uri": "https://localhost:8080/",
     "height": 333
    },
    "id": "mqGH1gQ6xDei",
    "outputId": "305f8a39-26b7-460b-ad5e-968e3a27a4ff"
   },
   "outputs": [
    {
     "ename": "ModuleNotFoundError",
     "evalue": "No module named 'easyocr'",
     "output_type": "error",
     "traceback": [
      "\u001b[1;31m---------------------------------------------------------------------------\u001b[0m",
      "\u001b[1;31mModuleNotFoundError\u001b[0m                       Traceback (most recent call last)",
      "Cell \u001b[1;32mIn[1], line 3\u001b[0m\n\u001b[0;32m      1\u001b[0m \u001b[38;5;28;01mimport\u001b[39;00m \u001b[38;5;21;01mmatplotlib\u001b[39;00m\u001b[38;5;21;01m.\u001b[39;00m\u001b[38;5;21;01mpyplot\u001b[39;00m \u001b[38;5;28;01mas\u001b[39;00m \u001b[38;5;21;01mplt\u001b[39;00m\n\u001b[0;32m      2\u001b[0m \u001b[38;5;66;03m# import cv2\u001b[39;00m\n\u001b[1;32m----> 3\u001b[0m \u001b[38;5;28;01mimport\u001b[39;00m \u001b[38;5;21;01measyocr\u001b[39;00m\n\u001b[0;32m      4\u001b[0m \u001b[38;5;28;01mfrom\u001b[39;00m \u001b[38;5;21;01mIPython\u001b[39;00m\u001b[38;5;21;01m.\u001b[39;00m\u001b[38;5;21;01mdisplay\u001b[39;00m \u001b[38;5;28;01mimport\u001b[39;00m Image\n",
      "\u001b[1;31mModuleNotFoundError\u001b[0m: No module named 'easyocr'"
     ]
    }
   ],
   "source": [
    "import matplotlib.pyplot as plt\n",
    "# import cv2\n",
    "import easyocr\n",
    "from IPython.display import Image\n",
    "\n"
   ]
  },
  {
   "cell_type": "code",
   "execution_count": 2,
   "metadata": {
    "id": "Fo3BNiTS4Qgv"
   },
   "outputs": [
    {
     "name": "stderr",
     "output_type": "stream",
     "text": [
      "Neither CUDA nor MPS are available - defaulting to CPU. Note: This module is much faster with a GPU.\n"
     ]
    }
   ],
   "source": [
    "reader = easyocr.Reader(['en'])  # downloading english language for text extraction "
   ]
  },
  {
   "cell_type": "code",
   "execution_count": 3,
   "metadata": {},
   "outputs": [
    {
     "data": {
      "image/jpeg": "[encoded data removed]",
      "text/plain": [
       "<IPython.core.display.Image object>"
      ]
     },
     "execution_count": 3,
     "metadata": {},
     "output_type": "execute_result"
    }
   ],
   "source": [
    "Image(\"output/number_plate_0.jpg\")  #viewning image "
   ]
  },
  {
   "cell_type": "code",
   "execution_count": 4,
   "metadata": {},
   "outputs": [],
   "source": [
    "output = reader.readtext(\"output/number_plate_0.jpg\")  "
   ]
  },
  {
   "cell_type": "code",
   "execution_count": 5,
   "metadata": {},
   "outputs": [
    {
     "name": "stdout",
     "output_type": "stream",
     "text": [
      "[([[1, 5], [81, 5], [81, 20], [1, 20]], '169719044', 0.49897752270224105)]\n"
     ]
    }
   ],
   "source": [
    "print(output)"
   ]
  },
  {
   "cell_type": "code",
   "execution_count": 6,
   "metadata": {},
   "outputs": [
    {
     "name": "stdout",
     "output_type": "stream",
     "text": [
      "169719044\n"
     ]
    }
   ],
   "source": [
    "number_plate = output[0][1]\n",
    "print(number_plate)"
   ]
  },
  {
   "cell_type": "code",
   "execution_count": 7,
   "metadata": {},
   "outputs": [
    {
     "name": "stdout",
     "output_type": "stream",
     "text": [
      "169T9044\n"
     ]
    }
   ],
   "source": [
    "parts = number_plate.split()\n",
    "\n",
    "first = parts[0][:3]\n",
    "second = parts[-1][-4:]\n",
    "\n",
    "result = first + \"T\" + second\n",
    "\n",
    "print(result)"
   ]
  },
  {
   "cell_type": "code",
   "execution_count": null,
   "metadata": {},
   "outputs": [],
   "source": []
  }
 ],
 "metadata": {
  "colab": {
   "provenance": []
  },
  "kernelspec": {
   "display_name": "Python 3 (ipykernel)",
   "language": "python",
   "name": "python3"
  },
  "language_info": {
   "codemirror_mode": {
    "name": "ipython",
    "version": 3
   },
   "file_extension": ".py",
   "mimetype": "text/x-python",
   "name": "python",
   "nbconvert_exporter": "python",
   "pygments_lexer": "ipython3",
   "version": "3.10.0"
  }
 },
 "nbformat": 4,
 "nbformat_minor": 4
}
