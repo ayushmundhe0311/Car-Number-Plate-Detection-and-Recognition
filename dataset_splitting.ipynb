{
 "cells": [
  {
   "cell_type": "code",
   "execution_count": 1,
   "id": "cf88b135-6756-4e81-a61c-fbe0b2587d9f",
   "metadata": {},
   "outputs": [],
   "source": [
    "import os\n",
    "import random\n",
    "import shutil"
   ]
  },
  {
   "cell_type": "code",
   "execution_count": 2,
   "id": "e12c555d-6394-436d-8518-03abc95f27b2",
   "metadata": {},
   "outputs": [],
   "source": [
    "def split_dataset(image_dir, label_dir, output_dir, train_ratio=0.8):\n",
    "    \"\"\"\n",
    "    Splits the dataset into training and validation sets.\n",
    "\n",
    "    Args:\n",
    "        image_dir: Directory containing images.\n",
    "        label_dir: Directory containing YOLO format label files.\n",
    "        output_dir: Directory to save the split dataset.\n",
    "        train_ratio: Ratio of images to use for training (default is 0.8).\n",
    "    \"\"\"\n",
    "    if not os.path.exists(output_dir):\n",
    "        os.makedirs(output_dir)\n",
    "    \n",
    "    train_image_dir = os.path.join(output_dir, 'images/train')\n",
    "    val_image_dir = os.path.join(output_dir, 'images/val')\n",
    "    train_label_dir = os.path.join(output_dir, 'labels/train')\n",
    "    val_label_dir = os.path.join(output_dir, 'labels/val')\n",
    "\n",
    "    os.makedirs(train_image_dir, exist_ok=True)\n",
    "    os.makedirs(val_image_dir, exist_ok=True)\n",
    "    os.makedirs(train_label_dir, exist_ok=True)\n",
    "    os.makedirs(val_label_dir, exist_ok=True)\n",
    "\n",
    "    images = [f for f in os.listdir(image_dir) if f.endswith('.jpg')]\n",
    "    random.shuffle(images)\n",
    "    \n",
    "    train_count = int(len(images) * train_ratio)\n",
    "    train_images = images[:train_count]\n",
    "    val_images = images[train_count:]\n",
    "\n",
    "    for image in train_images:\n",
    "        shutil.copy(os.path.join(image_dir, image), train_image_dir)\n",
    "        label = image.replace('.jpg', '.txt')\n",
    "        shutil.copy(os.path.join(label_dir, label), train_label_dir)\n",
    "\n",
    "    for image in val_images:\n",
    "        shutil.copy(os.path.join(image_dir, image), val_image_dir)\n",
    "        label = image.replace('.jpg', '.txt')\n",
    "        shutil.copy(os.path.join(label_dir, label), val_label_dir)\n",
    "\n",
    "\n"
   ]
  },
  {
   "cell_type": "code",
   "execution_count": 3,
   "id": "91b7ff33-338e-4d0f-8309-ea8662bc10d8",
   "metadata": {},
   "outputs": [],
   "source": [
    "# splitting dataset and labels txt for every image for model building\n",
    "image_dir = 'data/'\n",
    "label_dir = 'yolo_labels/'\n",
    "output_dir = 'dataset'\n",
    "split_dataset(image_dir, label_dir, output_dir)"
   ]
  },
  {
   "cell_type": "code",
   "execution_count": null,
   "id": "40df7a15-c87b-406f-96fe-8014860a91b9",
   "metadata": {},
   "outputs": [],
   "source": []
  }
 ],
 "metadata": {
  "kernelspec": {
   "display_name": "Python 3 (ipykernel)",
   "language": "python",
   "name": "python3"
  },
  "language_info": {
   "codemirror_mode": {
    "name": "ipython",
    "version": 3
   },
   "file_extension": ".py",
   "mimetype": "text/x-python",
   "name": "python",
   "nbconvert_exporter": "python",
   "pygments_lexer": "ipython3",
   "version": "3.10.0"
  }
 },
 "nbformat": 4,
 "nbformat_minor": 5
}
