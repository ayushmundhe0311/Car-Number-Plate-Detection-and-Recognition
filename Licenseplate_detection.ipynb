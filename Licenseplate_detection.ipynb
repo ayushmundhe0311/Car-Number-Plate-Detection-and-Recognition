{
 "cells": [
  {
   "cell_type": "code",
   "execution_count": 1,
   "id": "6f85ca70-783b-41c6-8bcd-8bf51d68d031",
   "metadata": {},
   "outputs": [
    {
     "ename": "ModuleNotFoundError",
     "evalue": "No module named 'ultralytics'",
     "output_type": "error",
     "traceback": [
      "\u001b[1;31m---------------------------------------------------------------------------\u001b[0m",
      "\u001b[1;31mModuleNotFoundError\u001b[0m                       Traceback (most recent call last)",
      "Cell \u001b[1;32mIn[1], line 1\u001b[0m\n\u001b[1;32m----> 1\u001b[0m \u001b[38;5;28;01mfrom\u001b[39;00m \u001b[38;5;21;01multralytics\u001b[39;00m \u001b[38;5;28;01mimport\u001b[39;00m YOLO\n\u001b[0;32m      2\u001b[0m \u001b[38;5;28;01mimport\u001b[39;00m \u001b[38;5;21;01mcv2\u001b[39;00m\n\u001b[0;32m      3\u001b[0m \u001b[38;5;28;01mimport\u001b[39;00m \u001b[38;5;21;01mos\u001b[39;00m\n",
      "\u001b[1;31mModuleNotFoundError\u001b[0m: No module named 'ultralytics'"
     ]
    }
   ],
   "source": [
    "from ultralytics import YOLO\n",
    "import cv2\n",
    "import os"
   ]
  },
  {
   "cell_type": "code",
   "execution_count": 2,
   "id": "1b799d24-58c7-4d76-be6c-3fe3d704b5bf",
   "metadata": {},
   "outputs": [],
   "source": [
    "# Load the trained model\n",
    "trained_model = YOLO(\"runs/train11/weights/best.pt\")  # Path to the best model weights"
   ]
  },
  {
   "cell_type": "code",
   "execution_count": 6,
   "id": "59452852-9e6f-4639-b91f-1cd927efb3b6",
   "metadata": {},
   "outputs": [],
   "source": [
    "# Loading image for license plate detection\n",
    "image_path = 'test/927.jpg'\n",
    "image = cv2.imread(image_path)"
   ]
  },
  {
   "cell_type": "code",
   "execution_count": 7,
   "id": "1baf386a-be97-4ba1-b829-06ba3ea4b170",
   "metadata": {},
   "outputs": [
    {
     "name": "stdout",
     "output_type": "stream",
     "text": [
      "\n",
      "0: 416x320 1 license_plate, 114.4ms\n",
      "Speed: 7.2ms preprocess, 114.4ms inference, 10.0ms postprocess per image at shape (1, 3, 416, 320)\n"
     ]
    }
   ],
   "source": [
    "# Detection of licenseplate image\n",
    "inference_results = trained_model(image)\n",
    "\n",
    "# Directory to save the cropped number plates\n",
    "output_dir = 'output/'\n",
    "os.makedirs(output_dir, exist_ok=True)"
   ]
  },
  {
   "cell_type": "code",
   "execution_count": 8,
   "id": "a0405ab6-3a38-4dba-a5f8-a210488c494e",
   "metadata": {},
   "outputs": [
    {
     "name": "stdout",
     "output_type": "stream",
     "text": [
      "Saved number plate to output/number_plate_0.jpg\n"
     ]
    }
   ],
   "source": [
    "# Process the results\n",
    "for idx, result in enumerate(inference_results):\n",
    "    # Extract bounding box coordinates\n",
    "    for box in result.boxes:\n",
    "        x1, y1, x2, y2 = map(int, box.xyxy[0])  # Convert to integer\n",
    "        cropped_plate = image[y1:y2, x1:x2]  # Crop the number plate from the image\n",
    "        \n",
    "        # Save the cropped image\n",
    "        output_path = os.path.join(output_dir, f'number_plate_{idx}.jpg')\n",
    "        cv2.imwrite(output_path, cropped_plate)\n",
    "        print(f'Saved number plate to {output_path}')"
   ]
  },
  {
   "cell_type": "code",
   "execution_count": null,
   "id": "bfc26119-1dc7-4bd7-91fc-d259d31e0b4f",
   "metadata": {},
   "outputs": [],
   "source": []
  }
 ],
 "metadata": {
  "kernelspec": {
   "display_name": "Python 3 (ipykernel)",
   "language": "python",
   "name": "python3"
  },
  "language_info": {
   "codemirror_mode": {
    "name": "ipython",
    "version": 3
   },
   "file_extension": ".py",
   "mimetype": "text/x-python",
   "name": "python",
   "nbconvert_exporter": "python",
   "pygments_lexer": "ipython3",
   "version": "3.10.0"
  }
 },
 "nbformat": 4,
 "nbformat_minor": 5
}
